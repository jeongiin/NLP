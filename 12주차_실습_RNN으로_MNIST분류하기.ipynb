{
 "cells": [
  {
   "cell_type": "markdown",
   "metadata": {},
   "source": [
    "# 0.1 라이브러리 임포트"
   ]
  },
  {
   "cell_type": "code",
   "execution_count": 1,
   "metadata": {},
   "outputs": [],
   "source": [
    "import torch\n",
    "import torch.nn as nn\n",
    "import torchvision.datasets as dset\n",
    "import torchvision.transforms as transforms\n",
    "import matplotlib.pyplot as plt\n",
    "from torch.autograd import Variable"
   ]
  },
  {
   "cell_type": "markdown",
   "metadata": {},
   "source": [
    "# 0.2 하이퍼파라미터 셋팅"
   ]
  },
  {
   "cell_type": "code",
   "execution_count": 2,
   "metadata": {},
   "outputs": [],
   "source": [
    "# Hyper- parameter\n",
    "sequence_length = 28\n",
    "input_size = 28\n",
    "hidden_size =128\n",
    "num_layers = 2\n",
    "\n",
    "num_classes = 10\n",
    "batch_size = 100\n",
    "num_epochs = 2\n",
    "learning_rate = 0.01"
   ]
  },
  {
   "cell_type": "code",
   "execution_count": 3,
   "metadata": {},
   "outputs": [],
   "source": [
    "# Device configuration\n",
    "# device = torch.device('cuda' if torch.cuda.is_available() else 'cpu')\n",
    "device = torch.device('cpu')"
   ]
  },
  {
   "cell_type": "markdown",
   "metadata": {},
   "source": [
    "# 1. MNIST train, test dataset 가져오기"
   ]
  },
  {
   "cell_type": "code",
   "execution_count": 4,
   "metadata": {},
   "outputs": [],
   "source": [
    "# MNIST dataset\n",
    "mnist_train = dset.MNIST(\"\", train=True, transform = transforms.ToTensor(),\n",
    "                        target_transform = None, download = True) # train용으로 쓰겠다\n",
    "mnist_test = dset.MNIST(\"\", train=False, transform = transforms.ToTensor(),\n",
    "                       target_transform = None, download=True) # test용으로 쓰겠다"
   ]
  },
  {
   "cell_type": "markdown",
   "metadata": {},
   "source": [
    "# 2. 대략적인 데이터 형태"
   ]
  },
  {
   "cell_type": "code",
   "execution_count": 5,
   "metadata": {},
   "outputs": [
    {
     "name": "stdout",
     "output_type": "stream",
     "text": [
      "('mnist_rtain \\xea\\xb8\\xb8\\xec\\x9d\\xb4 : ', 60000)\n",
      "('minst_test \\xea\\xb8\\xb8\\xec\\x9d\\xb4 : ', 10000)\n",
      "('image data \\xed\\x98\\x95\\xed\\x83\\x9c : ', torch.Size([1, 28, 28]))\n",
      "('\\xe3\\x85\\xa3\\xeb\\xae\\xa4\\xeb\\x94\\x94 : ', 5)\n"
     ]
    },
    {
     "data": {
      "image/png": "[encoded data removed]",
      "text/plain": [
       "<Figure size 432x288 with 1 Axes>"
      ]
     },
     "metadata": {
      "needs_background": "light"
     },
     "output_type": "display_data"
    }
   ],
   "source": [
    "print (\"mnist_rtain 길이 : \", len(mnist_train))\n",
    "print (\"minst_test 길이 : \", len(mnist_test))\n",
    "\n",
    "# 데이터 하나 형태\n",
    "image , label = mnist_train.__getitem__(0) # 0 번째 데이터\n",
    "print(\"image data 형태 : \", image.size())\n",
    "print(\"ㅣ뮤디 : \", label)\n",
    "\n",
    "\n",
    "# 그리기\n",
    "img = image.numpy() # image 타입을 numpy로 변환(1,28,28)\n",
    "plt.title(\"label : %d\"%label)\n",
    "plt.imshow(img[0], cmap='gray')\n",
    "plt.show()"
   ]
  },
  {
   "cell_type": "markdown",
   "metadata": {},
   "source": [
    "# 3. 데이터 로드함수"
   ]
  },
  {
   "cell_type": "code",
   "execution_count": 6,
   "metadata": {},
   "outputs": [],
   "source": [
    "# Data loader\n",
    "train_loader = torch.utils.data.DataLoader(dataset = mnist_train, # mnist_train 을 트레인 시키자\n",
    "                                          batch_size = batch_size,\n",
    "                                          shuffle = True,\n",
    "                                          drop_last = True) # batch_size만큼 나눌 때 나머지는 버려라\n",
    "test_loader = torch.utils.data.DataLoader(dataset=mnist_test,\n",
    "                                         batch_size = batch_size,\n",
    "                                         shuffle = False,\n",
    "                                         drop_last = True) # test 에서는 shuffle 하지 않음"
   ]
  },
  {
   "cell_type": "markdown",
   "metadata": {},
   "source": [
    "## 데이터 로드함수 이해하기"
   ]
  },
  {
   "cell_type": "code",
   "execution_count": 7,
   "metadata": {},
   "outputs": [
    {
     "name": "stdout",
     "output_type": "stream",
     "text": [
      "[0]\n",
      "('\\xed\\x95\\x9c \\xeb\\xb2\\x88\\xec\\x97\\x90 \\xeb\\xa1\\x9c\\xeb\\x93\\x9c\\xeb\\x90\\x98\\xeb\\x8a\\x94 \\xeb\\x8d\\xb0\\xec\\x9d\\xb4\\xed\\x84\\xb0 \\xed\\x81\\xac\\xea\\xb8\\xb0:', 100)\n"
     ]
    },
    {
     "data": {
      "image/png": "[encoded data removed]",
      "text/plain": [
       "<Figure size 432x288 with 3 Axes>"
      ]
     },
     "metadata": {
      "needs_background": "light"
     },
     "output_type": "display_data"
    },
    {
     "name": "stdout",
     "output_type": "stream",
     "text": [
      "[1]\n",
      "('\\xed\\x95\\x9c \\xeb\\xb2\\x88\\xec\\x97\\x90 \\xeb\\xa1\\x9c\\xeb\\x93\\x9c\\xeb\\x90\\x98\\xeb\\x8a\\x94 \\xeb\\x8d\\xb0\\xec\\x9d\\xb4\\xed\\x84\\xb0 \\xed\\x81\\xac\\xea\\xb8\\xb0:', 100)\n"
     ]
    },
    {
     "data": {
      "image/png": "[encoded data removed]",
      "text/plain": [
       "<Figure size 432x288 with 3 Axes>"
      ]
     },
     "metadata": {
      "needs_background": "light"
     },
     "output_type": "display_data"
    },
    {
     "name": "stdout",
     "output_type": "stream",
     "text": [
      "[2]\n",
      "('\\xed\\x95\\x9c \\xeb\\xb2\\x88\\xec\\x97\\x90 \\xeb\\xa1\\x9c\\xeb\\x93\\x9c\\xeb\\x90\\x98\\xeb\\x8a\\x94 \\xeb\\x8d\\xb0\\xec\\x9d\\xb4\\xed\\x84\\xb0 \\xed\\x81\\xac\\xea\\xb8\\xb0:', 100)\n"
     ]
    },
    {
     "data": {
      "image/png": "[encoded data removed]",
      "text/plain": [
       "<Figure size 432x288 with 3 Axes>"
      ]
     },
     "metadata": {
      "needs_background": "light"
     },
     "output_type": "display_data"
    },
    {
     "name": "stdout",
     "output_type": "stream",
     "text": [
      "[3]\n",
      "('\\xed\\x95\\x9c \\xeb\\xb2\\x88\\xec\\x97\\x90 \\xeb\\xa1\\x9c\\xeb\\x93\\x9c\\xeb\\x90\\x98\\xeb\\x8a\\x94 \\xeb\\x8d\\xb0\\xec\\x9d\\xb4\\xed\\x84\\xb0 \\xed\\x81\\xac\\xea\\xb8\\xb0:', 100)\n"
     ]
    },
    {
     "data": {
      "image/png": "[encoded data removed]",
      "text/plain": [
       "<Figure size 432x288 with 3 Axes>"
      ]
     },
     "metadata": {
      "needs_background": "light"
     },
     "output_type": "display_data"
    },
    {
     "name": "stdout",
     "output_type": "stream",
     "text": [
      "[4]\n",
      "('\\xed\\x95\\x9c \\xeb\\xb2\\x88\\xec\\x97\\x90 \\xeb\\xa1\\x9c\\xeb\\x93\\x9c\\xeb\\x90\\x98\\xeb\\x8a\\x94 \\xeb\\x8d\\xb0\\xec\\x9d\\xb4\\xed\\x84\\xb0 \\xed\\x81\\xac\\xea\\xb8\\xb0:', 100)\n"
     ]
    },
    {
     "data": {
      "image/png": "[encoded data removed]",
      "text/plain": [
       "<Figure size 432x288 with 3 Axes>"
      ]
     },
     "metadata": {
      "needs_background": "light"
     },
     "output_type": "display_data"
    },
    {
     "name": "stdout",
     "output_type": "stream",
     "text": [
      "[5]\n",
      "('\\xed\\x95\\x9c \\xeb\\xb2\\x88\\xec\\x97\\x90 \\xeb\\xa1\\x9c\\xeb\\x93\\x9c\\xeb\\x90\\x98\\xeb\\x8a\\x94 \\xeb\\x8d\\xb0\\xec\\x9d\\xb4\\xed\\x84\\xb0 \\xed\\x81\\xac\\xea\\xb8\\xb0:', 100)\n"
     ]
    },
    {
     "data": {
      "image/png": "[encoded data removed]",
      "text/plain": [
       "<Figure size 432x288 with 3 Axes>"
      ]
     },
     "metadata": {
      "needs_background": "light"
     },
     "output_type": "display_data"
    }
   ],
   "source": [
    "n = 3 #샘플로 그려볼 데이터 개수\n",
    "for i, [imgs, labels] in enumerate(test_loader): #batch size만큼\n",
    "    if i>5:\n",
    "        break\n",
    "        \n",
    "    print(\"[%d]\"%i)\n",
    "    print(\"한 번에 로드되는 데이터 크기:\", len(imgs))\n",
    "    \n",
    "    # 그리기\n",
    "    for j in range(n):\n",
    "        img = imgs[j].numpy() #image 타입을 numpy로 변환(1,28,28)\n",
    "        img = img.reshape((img.shape[1], img.shape[2])) # (1,28,28) -> (28,28)\n",
    "        # print img.shape\n",
    "        \n",
    "        plt.subplot(1, n, j+1)\n",
    "        plt.imshow(img, cmap = 'gray')\n",
    "        plt.title(\"label: %d\"%labels[j])\n",
    "        \n",
    "    plt.show()"
   ]
  },
  {
   "cell_type": "markdown",
   "metadata": {},
   "source": [
    "# 4. 모델 선언"
   ]
  },
  {
   "cell_type": "code",
   "execution_count": 8,
   "metadata": {},
   "outputs": [],
   "source": [
    "# Recurrent neural network(m : 1)\n",
    "class RNN(nn.Module):\n",
    "    def __init__(self, input_size, hidden_size, num_layers, num_classes):\n",
    "        super(RNN, self).__init__()\n",
    "        self.hidden_size = hidden_size\n",
    "        self.num_layers = num_layers\n",
    "        self.lstm = nn.LSTM(input_size, hidden_size, num_layers, batch_first = True)\n",
    "        self.fc = nn.Linear(hidden_size, num_classes)\n",
    "        \n",
    "    def forward(self, x):\n",
    "        # -------------------------\n",
    "        # input tensor : (batch_size, seq_length, input_size)\n",
    "        # x : (100,28,28)\n",
    "        # print('x: ', x.shape)\n",
    "        # -------------------------\n",
    "\n",
    "        # -------------------------\n",
    "        # hidden state tensor : (# of layers, batch_size, hidden_size)\n",
    "        # h : (2, 100, 128)\n",
    "        h0 = torch.zeros(self.num_layers, x.size(0), self.hidden_size).to(device)\n",
    "        c0 = torch.zeros(self.num_layers, x.size(0), self.hidden_size).to(device)\n",
    "        # -------------------------\n",
    "        \n",
    "        # -------------------------\n",
    "        # Forward propagate LSTM\n",
    "        # output tensor : (barch_size, seq_length, hidden_size)\n",
    "        # out : (100,28, 128)\n",
    "        # print('out: ', out.shape)\n",
    "        \n",
    "        out, _ = self.lstm(x,(h0,c0))\n",
    "        # --------------------------\n",
    "        \n",
    "        # ---------------------------\n",
    "        # 28번째 output layer : (bs, hidden_size)\n",
    "        # out[:,-1,:] : (100,128)\n",
    "        # print('out[-1]:', out[:,01,:].shape)\n",
    "        # ----------------------------\n",
    "        \n",
    "        # -----------------------------\n",
    "        out = self.fc(out[:, -1,:])\n",
    "        \n",
    "        # y^ : (batch_size, num_classes)\n",
    "        # y_pred : (100,10)\n",
    "        # print('out:' , out.shape)\n",
    "        \n",
    "        return out\n",
    "        \n"
   ]
  },
  {
   "cell_type": "code",
   "execution_count": 9,
   "metadata": {},
   "outputs": [],
   "source": [
    "model = RNN(input_size, hidden_size, num_layers, num_classes).to(device)"
   ]
  },
  {
   "cell_type": "code",
   "execution_count": 10,
   "metadata": {},
   "outputs": [],
   "source": [
    "def ComputeAccr(dloader, imodel):\n",
    "    correct = 0\n",
    "    total = 0\n",
    "    \n",
    "    for j, [img, labels] in enumerate(dloader): # batch_size  만큼\n",
    "        # x: (batch_size, 1, seq_length, input_size) -> (batch_size, seq_length, input_size)\n",
    "        \n",
    "        img = imgs\n",
    "        img = img.reshape(-1, sequence_length, input_size).to(device)\n",
    "        \n",
    "        # y : (batch_size, num_classes)\n",
    "        \n",
    "        label = labels.to(device) # y # Variable(labels)\n",
    "        \n",
    "#         label = Variable(labels).cuda()\n",
    "        \n",
    "        # Forward prop.\n",
    "        output = imodel(img) # (batch_size, num_classes)\n",
    "        _, output_index = torch.max(output, 1) # (batch_size, 1)\n",
    "        \n",
    "        total += label.size(0)\n",
    "        correct += (output_index == label).sum().float()\n",
    "        \n",
    "        return (100*correct/total).numpy() #tencor -> numpy"
   ]
  },
  {
   "cell_type": "code",
   "execution_count": 11,
   "metadata": {},
   "outputs": [
    {
     "name": "stdout",
     "output_type": "stream",
     "text": [
      "Accuracy of Test Data: 11.00\n"
     ]
    }
   ],
   "source": [
    "print(\"Accuracy of Test Data: %.2f\"%ComputeAccr(test_loader, model))"
   ]
  },
  {
   "cell_type": "markdown",
   "metadata": {},
   "source": [
    "# 5. Loss, optimizer"
   ]
  },
  {
   "cell_type": "code",
   "execution_count": 12,
   "metadata": {},
   "outputs": [],
   "source": [
    "# Loss and optimizer\n",
    "\n",
    "loss_func = nn.CrossEntropyLoss()\n",
    "optimizer = torch.optim.Adam(model.parameters(), lr = learning_rate)"
   ]
  },
  {
   "cell_type": "markdown",
   "metadata": {},
   "source": [
    "# 6. 학습"
   ]
  },
  {
   "cell_type": "code",
   "execution_count": 17,
   "metadata": {},
   "outputs": [
    {
     "name": "stdout",
     "output_type": "stream",
     "text": [
      "Epoch [1/2], Step [100,600], Loss : 0.5664, Accr: 7.00\n",
      "Epoch [1/2], Step [200,600], Loss : 0.2768, Accr: 4.00\n",
      "Epoch [1/2], Step [300,600], Loss : 0.2403, Accr: 8.00\n",
      "Epoch [1/2], Step [400,600], Loss : 0.0739, Accr: 8.00\n",
      "Epoch [1/2], Step [500,600], Loss : 0.1993, Accr: 20.00\n",
      "Epoch [1/2], Step [600,600], Loss : 0.1909, Accr: 12.00\n",
      "Epoch [2/2], Step [100,600], Loss : 0.1378, Accr: 14.00\n",
      "Epoch [2/2], Step [200,600], Loss : 0.0541, Accr: 9.00\n",
      "Epoch [2/2], Step [300,600], Loss : 0.0528, Accr: 6.00\n",
      "Epoch [2/2], Step [400,600], Loss : 0.0948, Accr: 11.00\n",
      "Epoch [2/2], Step [500,600], Loss : 0.1157, Accr: 7.00\n",
      "Epoch [2/2], Step [600,600], Loss : 0.0554, Accr: 14.00\n"
     ]
    }
   ],
   "source": [
    "# Train the model\n",
    "\n",
    "total_step = len(train_loader)\n",
    "for epoch in range(num_epochs):\n",
    "    for i , [imgs, labels] in enumerate(train_loader):\n",
    "        img = imgs\n",
    "        img = img.reshape(-1, sequence_length, input_size).to(device)\n",
    "        \n",
    "        label = labels.to(device)\n",
    "        \n",
    "        outputs = model(img)\n",
    "        loss = loss_func(outputs, label)\n",
    "        \n",
    "        optimizer.zero_grad()\n",
    "        loss.backward()\n",
    "        optimizer.step()\n",
    "        \n",
    "        if (i +1) % 100 == 0 :\n",
    "            print('Epoch [{}/{}], Step [{},{}], Loss : {:.4f}, Accr: {:.2f}').format(epoch+1, num_epochs, i+1, total_step,\n",
    "                                                                                     loss.item(),ComputeAccr(test_loader, model))"
   ]
  },
  {
   "cell_type": "markdown",
   "metadata": {},
   "source": [
    "# 7. 테스트"
   ]
  },
  {
   "cell_type": "code",
   "execution_count": 18,
   "metadata": {},
   "outputs": [
    {
     "name": "stdout",
     "output_type": "stream",
     "text": [
      "Accuracy of Test Data: 14.00\n"
     ]
    }
   ],
   "source": [
    "print(\"Accuracy of Test Data: %.2f\"%ComputeAccr(test_loader, model))"
   ]
  },
  {
   "cell_type": "markdown",
   "metadata": {},
   "source": [
    "# 8. 학습된 파라미터 저장"
   ]
  },
  {
   "cell_type": "code",
   "execution_count": 20,
   "metadata": {},
   "outputs": [
    {
     "name": "stderr",
     "output_type": "stream",
     "text": [
      "/usr/local/anaconda2/lib/python2.7/site-packages/torch/serialization.py:360: UserWarning: Couldn't retrieve source code for container of type RNN. It won't be checked for correctness upon loading.\n",
      "  \"type \" + obj.__name__ + \". It won't be checked \"\n"
     ]
    }
   ],
   "source": [
    "netname = './nets/rnn_weight.pkl'\n",
    "torch.save(model, netname,)"
   ]
  },
  {
   "cell_type": "markdown",
   "metadata": {},
   "source": [
    "# 9. 학습된 파라미터 로드"
   ]
  },
  {
   "cell_type": "code",
   "execution_count": 21,
   "metadata": {},
   "outputs": [],
   "source": [
    "netname = './nets/rnn_weight.pkl'\n",
    "model = torch.load(netname)"
   ]
  },
  {
   "cell_type": "code",
   "execution_count": 22,
   "metadata": {},
   "outputs": [
    {
     "name": "stdout",
     "output_type": "stream",
     "text": [
      "Accuracy of Test Data: 14.00\n"
     ]
    }
   ],
   "source": [
    "print(\"Accuracy of Test Data: %.2f\"%ComputeAccr(test_loader, model))"
   ]
  }
 ],
 "metadata": {
  "kernelspec": {
   "display_name": "Python 2",
   "language": "python",
   "name": "python2"
  },
  "language_info": {
   "codemirror_mode": {
    "name": "ipython",
    "version": 2
   },
   "file_extension": ".py",
   "mimetype": "text/x-python",
   "name": "python",
   "nbconvert_exporter": "python",
   "pygments_lexer": "ipython2",
   "version": "2.7.16"
  }
 },
 "nbformat": 4,
 "nbformat_minor": 2
}
