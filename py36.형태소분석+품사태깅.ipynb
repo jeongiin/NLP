{
 "cells": [
  {
   "cell_type": "markdown",
   "metadata": {},
   "source": [
    "# 1. konlpy 패키지 다운로드"
   ]
  },
  {
   "cell_type": "code",
   "execution_count": 2,
   "metadata": {},
   "outputs": [
    {
     "name": "stdout",
     "output_type": "stream",
     "text": [
      "Collecting konlpy\n",
      "  Downloading konlpy-0.5.2-py2.py3-none-any.whl (19.4 MB)\n",
      "Requirement already satisfied: lxml>=4.1.0 in c:\\users\\jeongin\\anaconda3\\lib\\site-packages (from konlpy) (4.5.2)\n",
      "Collecting tweepy>=3.7.0\n",
      "  Downloading tweepy-3.9.0-py2.py3-none-any.whl (30 kB)\n",
      "Collecting beautifulsoup4==4.6.0\n",
      "  Downloading beautifulsoup4-4.6.0-py3-none-any.whl (86 kB)\n",
      "Requirement already satisfied: colorama in c:\\users\\jeongin\\anaconda3\\lib\\site-packages (from konlpy) (0.4.3)\n",
      "Requirement already satisfied: numpy>=1.6 in c:\\users\\jeongin\\anaconda3\\lib\\site-packages (from konlpy) (1.18.5)\n",
      "Collecting JPype1>=0.7.0\n",
      "  Downloading JPype1-1.1.2-cp38-cp38-win_amd64.whl (1.6 MB)\n",
      "Collecting requests-oauthlib>=0.7.0\n",
      "  Downloading requests_oauthlib-1.3.0-py2.py3-none-any.whl (23 kB)\n",
      "Requirement already satisfied: six>=1.10.0 in c:\\users\\jeongin\\anaconda3\\lib\\site-packages (from tweepy>=3.7.0->konlpy) (1.15.0)\n",
      "Requirement already satisfied: requests[socks]>=2.11.1 in c:\\users\\jeongin\\anaconda3\\lib\\site-packages (from tweepy>=3.7.0->konlpy) (2.24.0)\n",
      "Collecting oauthlib>=3.0.0\n",
      "  Downloading oauthlib-3.1.0-py2.py3-none-any.whl (147 kB)\n",
      "Requirement already satisfied: urllib3!=1.25.0,!=1.25.1,<1.26,>=1.21.1 in c:\\users\\jeongin\\anaconda3\\lib\\site-packages (from requests[socks]>=2.11.1->tweepy>=3.7.0->konlpy) (1.25.9)\n",
      "Requirement already satisfied: idna<3,>=2.5 in c:\\users\\jeongin\\anaconda3\\lib\\site-packages (from requests[socks]>=2.11.1->tweepy>=3.7.0->konlpy) (2.10)\n",
      "Requirement already satisfied: chardet<4,>=3.0.2 in c:\\users\\jeongin\\anaconda3\\lib\\site-packages (from requests[socks]>=2.11.1->tweepy>=3.7.0->konlpy) (3.0.4)\n",
      "Requirement already satisfied: certifi>=2017.4.17 in c:\\users\\jeongin\\anaconda3\\lib\\site-packages (from requests[socks]>=2.11.1->tweepy>=3.7.0->konlpy) (2020.6.20)\n",
      "Requirement already satisfied: PySocks!=1.5.7,>=1.5.6; extra == \"socks\" in c:\\users\\jeongin\\anaconda3\\lib\\site-packages (from requests[socks]>=2.11.1->tweepy>=3.7.0->konlpy) (1.7.1)\n",
      "Installing collected packages: oauthlib, requests-oauthlib, tweepy, beautifulsoup4, JPype1, konlpy\n",
      "  Attempting uninstall: beautifulsoup4\n",
      "    Found existing installation: beautifulsoup4 4.9.1\n",
      "    Uninstalling beautifulsoup4-4.9.1:\n",
      "      Successfully uninstalled beautifulsoup4-4.9.1\n",
      "Successfully installed JPype1-1.1.2 beautifulsoup4-4.6.0 konlpy-0.5.2 oauthlib-3.1.0 requests-oauthlib-1.3.0 tweepy-3.9.0\n"
     ]
    }
   ],
   "source": [
    "!pip install konlpy"
   ]
  },
  {
   "cell_type": "markdown",
   "metadata": {},
   "source": [
    "# 2. konlpy 관련 패키지 import"
   ]
  },
  {
   "cell_type": "code",
   "execution_count": 4,
   "metadata": {},
   "outputs": [],
   "source": [
    "from konlpy.tag import Okt\n",
    "from konlpy.tag import Kkma\n",
    "from konlpy.tag import Hannanum\n",
    "from konlpy.tag import Komoran\n",
    "from konlpy.tag import Twitter\n",
    "from konlpy.tag import Mecab"
   ]
  },
  {
   "cell_type": "markdown",
   "metadata": {},
   "source": [
    "# 3. 객체 생성"
   ]
  },
  {
   "cell_type": "code",
   "execution_count": 6,
   "metadata": {},
   "outputs": [],
   "source": [
    "kkma = Kkma()\n",
    "okt = Okt()\n",
    "komoran = Komoran()\n",
    "hannanum = Hannanum()\n",
    "twitter = Twitter()"
   ]
  },
  {
   "cell_type": "markdown",
   "metadata": {},
   "source": [
    "# 4. 문장 분리(Kkma only)"
   ]
  },
  {
   "cell_type": "code",
   "execution_count": 9,
   "metadata": {},
   "outputs": [
    {
     "name": "stdout",
     "output_type": "stream",
     "text": [
      "kkma 문장 분리 :  ['네 안녕하세요', '반갑습니다.']\n",
      "kkma 문장 분리 :  ['네 안녕하세요', '반갑습니다.']\n"
     ]
    }
   ],
   "source": [
    "# konlpy 중 Kkma는 문장 분리가 가능(다른 라이브러리는 되지 않음)\n",
    "\n",
    "print(\"kkma 문장 분리 : \", kkma.sentences(\"네 안녕하세요 반갑습니다.\"))\n",
    "print(\"kkma 문장 분리 : \", kkma.sentences(\"네안녕하세요반갑습니다.\")) # 붙여서 써도 잘 분리가 됨"
   ]
  },
  {
   "cell_type": "markdown",
   "metadata": {},
   "source": [
    "# 5. 형태소 분석"
   ]
  },
  {
   "cell_type": "code",
   "execution_count": 10,
   "metadata": {},
   "outputs": [
    {
     "name": "stdout",
     "output_type": "stream",
     "text": [
      "okt 형태소 분석 :  ['세종대왕', '님', '은', '글', '을', '만드셨습니다', '.']\n",
      "kkma 형태소 분석 :  ['세종', '대왕', '님', '은', '글', '을', '만들', '시', '었', '습니다', '.']\n",
      "hannanum 형태소 분석 :  ['세종대왕님', '은', '글', '을', '만들', '셨습니다', '.']\n",
      "komoran 형태소 분석 :  ['세종대왕', '님', '은', '글', '을', '만들', '시', '었', '습니다', '.']\n",
      "twitter 형태소 분석 :  ['세종대왕', '님', '은', '글', '을', '만드셨습니다', '.']\n"
     ]
    }
   ],
   "source": [
    "in_str = u\"세종대왕님은 글을 만드셨습니다.\"\n",
    "\n",
    "# konlpy 의 라이브러리 형태소 분석 비교\n",
    "print(\"okt 형태소 분석 : \", okt.morphs(in_str))\n",
    "print(\"kkma 형태소 분석 : \", kkma.morphs(in_str))\n",
    "print(\"hannanum 형태소 분석 : \", hannanum.morphs(in_str))\n",
    "print(\"komoran 형태소 분석 : \", komoran.morphs(in_str))\n",
    "print(\"twitter 형태소 분석 : \", twitter.morphs(in_str))\n",
    "\n",
    "# 분야에서 자주 사용하는 sentences를 넣어 라이브러리를 선택, or 다른 비슷한 프로젝트 참고 or 선배들 조언"
   ]
  },
  {
   "cell_type": "markdown",
   "metadata": {},
   "source": [
    "# 6. 품사 태깅\n",
    "- 품사 태깅 표\n",
    "http://kkma.snu.ac.kr/documents/?doc=postag"
   ]
  },
  {
   "cell_type": "code",
   "execution_count": 11,
   "metadata": {},
   "outputs": [
    {
     "name": "stdout",
     "output_type": "stream",
     "text": [
      "okt 품사 태깅 :  [('세종대왕', 'Noun'), ('님', 'Suffix'), ('은', 'Josa'), ('글', 'Noun'), ('을', 'Josa'), ('만드셨습니다', 'Verb'), ('.', 'Punctuation')]\n",
      "kkma 품사 태깅 :  [('세종', 'NNG'), ('대왕', 'NNG'), ('님', 'XSN'), ('은', 'JX'), ('글', 'NNG'), ('을', 'JKO'), ('만들', 'VV'), ('시', 'EPH'), ('었', 'EPT'), ('습니다', 'EFN'), ('.', 'SF')]\n",
      "hannanum 품사 태깅 :  [('세종대왕님', 'N'), ('은', 'J'), ('글', 'N'), ('을', 'J'), ('만들', 'P'), ('셨습니다', 'E'), ('.', 'S')]\n",
      "komoran 품사 태깅 :  [('세종대왕', 'NNP'), ('님', 'XSN'), ('은', 'JX'), ('글', 'NNG'), ('을', 'JKO'), ('만들', 'VV'), ('시', 'EP'), ('었', 'EP'), ('습니다', 'EF'), ('.', 'SF')]\n",
      "twitter 품사 태깅 :  [('세종대왕', 'Noun'), ('님', 'Suffix'), ('은', 'Josa'), ('글', 'Noun'), ('을', 'Josa'), ('만드셨습니다', 'Verb'), ('.', 'Punctuation')]\n"
     ]
    }
   ],
   "source": [
    "# konlpy 의 라이브러리 형태소 분석 비교\n",
    "print(\"okt 품사 태깅 : \", okt.pos(in_str))\n",
    "print(\"kkma 품사 태깅 : \", kkma.pos(in_str))\n",
    "print(\"hannanum 품사 태깅 : \", hannanum.pos(in_str))\n",
    "print(\"komoran 품사 태깅 : \", komoran.pos(in_str))\n",
    "print(\"twitter 품사 태깅 : \", twitter.pos(in_str))\n",
    "\n",
    "## NNG : 일반 명사\n",
    "## JKO : 목적격 조사\n",
    "## 품사 태깅 표 참조하기"
   ]
  }
 ],
 "metadata": {
  "kernelspec": {
   "display_name": "Python 3",
   "language": "python",
   "name": "python3"
  },
  "language_info": {
   "codemirror_mode": {
    "name": "ipython",
    "version": 3
   },
   "file_extension": ".py",
   "mimetype": "text/x-python",
   "name": "python",
   "nbconvert_exporter": "python",
   "pygments_lexer": "ipython3",
   "version": "3.8.3"
  }
 },
 "nbformat": 4,
 "nbformat_minor": 4
}
